{
 "cells": [
  {
   "cell_type": "markdown",
   "id": "8b097cb9-b227-49c7-8e37-0b74ef3f0e70",
   "metadata": {},
   "source": [
    "# Oleaje CMEMS"
   ]
  },
  {
   "cell_type": "code",
   "execution_count": 18,
   "id": "6ac45a42-dfa4-4f4a-95ef-1d8c06f2466c",
   "metadata": {
    "tags": []
   },
   "outputs": [],
   "source": [
    "import os\n",
    "import warnings\n",
    "warnings.filterwarnings(\"ignore\")\n",
    "import IPython\n",
    "from shapely.geometry import box \n",
    "# import ftputil\n",
    "import pandas as pd\n",
    "# import plotly.express as px\n",
    "# import json2html\n",
    "# from json2html import *\n",
    "import numpy as np\n",
    "import matplotlib.pyplot as plt\n",
    "\n"
   ]
  },
  {
   "cell_type": "code",
   "execution_count": 17,
   "id": "a0d7c331-b104-4ba2-b4c6-8af1a0b35080",
   "metadata": {
    "tags": []
   },
   "outputs": [],
   "source": [
    "\n",
    "usr = 'lgomeznavarro1'\n",
    "pas = 'Hackaton23'"
   ]
  },
  {
   "cell_type": "code",
   "execution_count": 7,
   "id": "f86b047e-02f5-4062-908d-8a1afc603789",
   "metadata": {
    "tags": []
   },
   "outputs": [],
   "source": [
    "\n",
    "dataset = {\n",
    "    'host': 'nrt.cmems-du.eu',\n",
    "    'product': 'INSITU_GLO_NRT_OBSERVATIONS_013_030',\n",
    "    'name': 'glo_multiparameter_nrt',\n",
    "    'index_files': ['index_latest.txt', 'index_monthly.txt', 'index_history.txt'],\n",
    "    'index_platform': 'index_platform.txt',\n",
    "}"
   ]
  },
  {
   "cell_type": "code",
   "execution_count": 8,
   "id": "8d6beddf-2767-4de7-9269-0a682061c506",
   "metadata": {
    "tags": []
   },
   "outputs": [],
   "source": [
    "targeted_geospatial_lat_min = -11.0  # enter min latitude of your bounding box\n",
    "targeted_geospatial_lat_max = 15.0  # enter max latitude of your bounding box\n",
    "targeted_geospatial_lon_min = 90.0 # enter min longitude of your bounding box\n",
    "targeted_geospatial_lon_max = 142.0 # enter max longitude of your bounding box\n",
    "targeted_bbox = [targeted_geospatial_lon_min, targeted_geospatial_lat_min, targeted_geospatial_lon_max, targeted_geospatial_lat_max]  # (minx, miny, maxx, maxy)"
   ]
  },
  {
   "cell_type": "code",
   "execution_count": 9,
   "id": "e5ecb1da-ccd6-446b-94e8-225f3998e9bf",
   "metadata": {
    "tags": []
   },
   "outputs": [],
   "source": [
    "upper_left = [targeted_geospatial_lon_min, targeted_geospatial_lat_max]\n",
    "upper_right = [targeted_geospatial_lon_max, targeted_geospatial_lat_max]\n",
    "lower_right = [targeted_geospatial_lon_max, targeted_geospatial_lat_min]\n",
    "lower_left = [targeted_geospatial_lon_min, targeted_geospatial_lat_min]\n",
    "coords = [upper_left, upper_right, lower_right, lower_left]"
   ]
  },
  {
   "cell_type": "code",
   "execution_count": 10,
   "id": "7bd31c01-5360-4e8a-881c-d722de7825d6",
   "metadata": {
    "tags": []
   },
   "outputs": [],
   "source": [
    "geojson = {\n",
    "    \"type\": \"FeatureCollection\",\n",
    "    \"features\":[{ \n",
    "    \"type\": \"Feature\",\n",
    "    \"geometry\": {\n",
    "        \"type\": \"Polygon\",\n",
    "        \"coordinates\":  [coords]}\n",
    "}]}\n",
    "polygon=dict(sourcetype = 'geojson',source =geojson,below='', type = 'fill', color='blue', opacity=0.4)"
   ]
  },
  {
   "cell_type": "code",
   "execution_count": 15,
   "id": "c2cbc2cb-2704-4b2c-9e5d-78cec9ae30ae",
   "metadata": {
    "tags": []
   },
   "outputs": [
    {
     "ename": "AttributeError",
     "evalue": "'PathCollection' object has no attribute 'layout'",
     "output_type": "error",
     "traceback": [
      "\u001b[0;31m---------------------------------------------------------------------------\u001b[0m",
      "\u001b[0;31mAttributeError\u001b[0m                            Traceback (most recent call last)",
      "Cell \u001b[0;32mIn[15], line 2\u001b[0m\n\u001b[1;32m      1\u001b[0m fig \u001b[38;5;241m=\u001b[39m plt\u001b[38;5;241m.\u001b[39mscatter([targeted_geospatial_lon_min],[targeted_geospatial_lat_min])\u001b[38;5;66;03m#, zoom=2, height=400, size=[0])\u001b[39;00m\n\u001b[0;32m----> 2\u001b[0m \u001b[43mfig\u001b[49m\u001b[38;5;241;43m.\u001b[39;49m\u001b[43mlayout\u001b[49m\u001b[38;5;241m.\u001b[39mupdate(mapbox_layers \u001b[38;5;241m=\u001b[39m[polygon])\n\u001b[1;32m      3\u001b[0m fig\u001b[38;5;241m.\u001b[39mupdate_layout(mapbox_style\u001b[38;5;241m=\u001b[39m\u001b[38;5;124m\"\u001b[39m\u001b[38;5;124mopen-street-map\u001b[39m\u001b[38;5;124m\"\u001b[39m, margin\u001b[38;5;241m=\u001b[39m{\u001b[38;5;124m\"\u001b[39m\u001b[38;5;124mr\u001b[39m\u001b[38;5;124m\"\u001b[39m:\u001b[38;5;241m0\u001b[39m,\u001b[38;5;124m\"\u001b[39m\u001b[38;5;124mt\u001b[39m\u001b[38;5;124m\"\u001b[39m:\u001b[38;5;241m0\u001b[39m,\u001b[38;5;124m\"\u001b[39m\u001b[38;5;124ml\u001b[39m\u001b[38;5;124m\"\u001b[39m:\u001b[38;5;241m0\u001b[39m,\u001b[38;5;124m\"\u001b[39m\u001b[38;5;124mb\u001b[39m\u001b[38;5;124m\"\u001b[39m:\u001b[38;5;241m0\u001b[39m})\n\u001b[1;32m      4\u001b[0m fig\u001b[38;5;241m.\u001b[39mshow()\n",
      "\u001b[0;31mAttributeError\u001b[0m: 'PathCollection' object has no attribute 'layout'"
     ]
    },
    {
     "data": {
      "image/png": "[encoded data removed]",
      "text/plain": [
       "<Figure size 640x480 with 1 Axes>"
      ]
     },
     "metadata": {},
     "output_type": "display_data"
    }
   ],
   "source": [
    "fig = plt.scatter([targeted_geospatial_lon_min],[targeted_geospatial_lat_min])#, zoom=2, height=400, size=[0])\n",
    "fig.layout.update(mapbox_layers =[polygon])\n",
    "fig.update_layout(mapbox_style=\"open-street-map\", margin={\"r\":0,\"t\":0,\"l\":0,\"b\":0})\n",
    "fig.show()"
   ]
  },
  {
   "cell_type": "code",
   "execution_count": null,
   "id": "3b4ba2fb-f673-4107-bc3f-b31093fa5857",
   "metadata": {},
   "outputs": [],
   "source": []
  }
 ],
 "metadata": {
  "kernelspec": {
   "display_name": "Python 3 (ipykernel)",
   "language": "python",
   "name": "python3"
  },
  "language_info": {
   "codemirror_mode": {
    "name": "ipython",
    "version": 3
   },
   "file_extension": ".py",
   "mimetype": "text/x-python",
   "name": "python",
   "nbconvert_exporter": "python",
   "pygments_lexer": "ipython3",
   "version": "3.9.16"
  }
 },
 "nbformat": 4,
 "nbformat_minor": 5
}
