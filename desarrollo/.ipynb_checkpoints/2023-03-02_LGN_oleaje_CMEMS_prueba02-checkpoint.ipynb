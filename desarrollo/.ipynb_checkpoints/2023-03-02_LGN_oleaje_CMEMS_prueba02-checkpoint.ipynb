{
 "cells": [
  {
   "cell_type": "markdown",
   "id": "8b097cb9-b227-49c7-8e37-0b74ef3f0e70",
   "metadata": {},
   "source": [
    "# Oleaje CMEMS"
   ]
  },
  {
   "cell_type": "code",
   "execution_count": 1,
   "id": "6ac45a42-dfa4-4f4a-95ef-1d8c06f2466c",
   "metadata": {
    "tags": []
   },
   "outputs": [],
   "source": [
    "import matplotlib.pyplot as plt\n",
    "import xarray as xr\n",
    "import getpass\n",
    "\n",
    "# %matplotlib inline\n"
   ]
  },
  {
   "cell_type": "code",
   "execution_count": 2,
   "id": "a0d7c331-b104-4ba2-b4c6-8af1a0b35080",
   "metadata": {
    "tags": []
   },
   "outputs": [
    {
     "name": "stdin",
     "output_type": "stream",
     "text": [
      "Enter your password:  ········\n"
     ]
    }
   ],
   "source": [
    "USERNAME = 'lgomeznavarro1'\n",
    "PASSWORD = getpass.getpass('Enter your password: ')\n",
    "DATASET_ID = 'cmems_mod_glo_wav_anfc_0.083deg_PT3H-i'"
   ]
  },
  {
   "cell_type": "code",
   "execution_count": 3,
   "id": "f86b047e-02f5-4062-908d-8a1afc603789",
   "metadata": {
    "tags": []
   },
   "outputs": [],
   "source": [
    "#! /usr/bin/env python3\n",
    "# -*- coding: utf-8 -*-\n",
    "__author__ = \"Copernicus Marine User Support Team\"\n",
    "__copyright__ = \"(C) 2022 E.U. Copernicus Marine Service Information\"\n",
    "__credits__ = [\"E.U. Copernicus Marine Service Information\"]\n",
    "__license__ = \"MIT License - You must cite this source\"\n",
    "__version__ = \"202104\"\n",
    "__maintainer__ = \"D. Bazin, E. DiMedio, C. Giordan\"\n",
    "__email__ = \"servicedesk dot cmems at mercator hyphen ocean dot eu\"\n",
    "\n",
    "def copernicusmarine_datastore(dataset, username, password):\n",
    "    from pydap.client import open_url\n",
    "    from pydap.cas.get_cookies import setup_session\n",
    "    cas_url = 'https://cmems-cas.cls.fr/cas/login'\n",
    "    session = setup_session(cas_url, username, password)\n",
    "    session.cookies.set(\"CASTGC\", session.cookies.get_dict()['CASTGC'])\n",
    "    database = ['my', 'nrt']\n",
    "    url = f'https://{database[0]}.cmems-du.eu/thredds/dodsC/{dataset}'\n",
    "    try:\n",
    "        data_store = xr.backends.PydapDataStore(open_url(url, session=session, user_charset='utf-8')) # needs PyDAP >= v3.3.0 see https://github.com/pydap/pydap/pull/223/commits \n",
    "    except:\n",
    "        url = f'https://{database[1]}.cmems-du.eu/thredds/dodsC/{dataset}'\n",
    "        data_store = xr.backends.PydapDataStore(open_url(url, session=session, user_charset='utf-8')) # needs PyDAP >= v3.3.0 see https://github.com/pydap/pydap/pull/223/commits\n",
    "    return data_store"
   ]
  },
  {
   "cell_type": "code",
   "execution_count": 4,
   "id": "3b4ba2fb-f673-4107-bc3f-b31093fa5857",
   "metadata": {},
   "outputs": [
    {
     "ename": "ModuleNotFoundError",
     "evalue": "No module named 'pydap'",
     "output_type": "error",
     "traceback": [
      "\u001b[0;31m---------------------------------------------------------------------------\u001b[0m",
      "\u001b[0;31mModuleNotFoundError\u001b[0m                       Traceback (most recent call last)",
      "Cell \u001b[0;32mIn[4], line 1\u001b[0m\n\u001b[0;32m----> 1\u001b[0m data_store \u001b[38;5;241m=\u001b[39m \u001b[43mcopernicusmarine_datastore\u001b[49m\u001b[43m(\u001b[49m\u001b[43mDATASET_ID\u001b[49m\u001b[43m,\u001b[49m\u001b[43m \u001b[49m\u001b[43mUSERNAME\u001b[49m\u001b[43m,\u001b[49m\u001b[43m \u001b[49m\u001b[43mPASSWORD\u001b[49m\u001b[43m)\u001b[49m\n",
      "Cell \u001b[0;32mIn[3], line 12\u001b[0m, in \u001b[0;36mcopernicusmarine_datastore\u001b[0;34m(dataset, username, password)\u001b[0m\n\u001b[1;32m     11\u001b[0m \u001b[38;5;28;01mdef\u001b[39;00m \u001b[38;5;21mcopernicusmarine_datastore\u001b[39m(dataset, username, password):\n\u001b[0;32m---> 12\u001b[0m     \u001b[38;5;28;01mfrom\u001b[39;00m \u001b[38;5;21;01mpydap\u001b[39;00m\u001b[38;5;21;01m.\u001b[39;00m\u001b[38;5;21;01mclient\u001b[39;00m \u001b[38;5;28;01mimport\u001b[39;00m open_url\n\u001b[1;32m     13\u001b[0m     \u001b[38;5;28;01mfrom\u001b[39;00m \u001b[38;5;21;01mpydap\u001b[39;00m\u001b[38;5;21;01m.\u001b[39;00m\u001b[38;5;21;01mcas\u001b[39;00m\u001b[38;5;21;01m.\u001b[39;00m\u001b[38;5;21;01mget_cookies\u001b[39;00m \u001b[38;5;28;01mimport\u001b[39;00m setup_session\n\u001b[1;32m     14\u001b[0m     cas_url \u001b[38;5;241m=\u001b[39m \u001b[38;5;124m'\u001b[39m\u001b[38;5;124mhttps://cmems-cas.cls.fr/cas/login\u001b[39m\u001b[38;5;124m'\u001b[39m\n",
      "\u001b[0;31mModuleNotFoundError\u001b[0m: No module named 'pydap'"
     ]
    }
   ],
   "source": [
    "data_store = copernicusmarine_datastore(DATASET_ID, USERNAME, PASSWORD)\n"
   ]
  },
  {
   "cell_type": "code",
   "execution_count": null,
   "id": "e92d81c2-d827-49a2-bbeb-17034876a5f6",
   "metadata": {},
   "outputs": [],
   "source": []
  }
 ],
 "metadata": {
  "kernelspec": {
   "display_name": "Python 3 (ipykernel)",
   "language": "python",
   "name": "python3"
  },
  "language_info": {
   "codemirror_mode": {
    "name": "ipython",
    "version": 3
   },
   "file_extension": ".py",
   "mimetype": "text/x-python",
   "name": "python",
   "nbconvert_exporter": "python",
   "pygments_lexer": "ipython3",
   "version": "3.9.16"
  }
 },
 "nbformat": 4,
 "nbformat_minor": 5
}
